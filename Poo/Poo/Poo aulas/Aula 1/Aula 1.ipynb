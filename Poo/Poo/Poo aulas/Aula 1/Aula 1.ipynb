{
 "cells": [
  {
   "cell_type": "code",
   "execution_count": 2,
   "metadata": {},
   "outputs": [
    {
     "name": "stdout",
     "output_type": "stream",
     "text": [
      "Não foi oi\n"
     ]
    }
   ],
   "source": [
    "var = input(\"O que quer dizer: \")\n",
    "\n",
    "if var == \"oi\" or var == \"Oi\":\n",
    "    print(var)\n",
    "else:\n",
    "    print(\"Não foi oi\")"
   ]
  },
  {
   "cell_type": "code",
   "execution_count": 3,
   "metadata": {},
   "outputs": [
    {
     "name": "stdout",
     "output_type": "stream",
     "text": [
      "Não foi oi\n"
     ]
    }
   ],
   "source": [
    "def comprimentar(var):\n",
    "    if var == \"oi\" or var == \"Oi\":\n",
    "        print(var)\n",
    "    else:\n",
    "        print(\"Não foi oi\")\n",
    "\n",
    "comprimentar(\"Olá\")"
   ]
  },
  {
   "cell_type": "code",
   "execution_count": 20,
   "metadata": {},
   "outputs": [
    {
     "name": "stdout",
     "output_type": "stream",
     "text": [
      "Não quero saber de você hoje!!!\n"
     ]
    }
   ],
   "source": [
    "class Comprimentar:\n",
    "    def agradar():\n",
    "        var = input(\"Informe o procedimento: \")\n",
    "        if var == \"oi\" or var == \"Oi\":\n",
    "            return print(\"Você esta bem hoje!!!\")\n",
    "        else:\n",
    "            return print(\"Você esta muito bem hoje!!!\")\n",
    "    \n",
    "    def ofender():\n",
    "        var = input(\"Informe o procedimento: \")\n",
    "        if var == \"Saí daqui!\":\n",
    "            return print(\"Você não esta bem hoje!!!\")\n",
    "        else:\n",
    "            return print(\"Não quero saber de você hoje!!!\")\n",
    "\n",
    "Comprimentar.ofender()"
   ]
  },
  {
   "cell_type": "markdown",
   "metadata": {},
   "source": [
    "# Método Construtor: __ __init__ __ : atributos"
   ]
  },
  {
   "cell_type": "code",
   "execution_count": 4,
   "metadata": {},
   "outputs": [],
   "source": [
    "class Cliente:\n",
    "    def __init__(self, nome, idade, endereco, email):\n",
    "        self.nome = nome\n",
    "        self.idade = idade\n",
    "        self.endereco = endereco\n",
    "        self.email = email\n",
    "        self.pessoal = \"É uma pessoa\"\n",
    "    \n",
    "    def atualizar_endereco(self, novo_endereco):\n",
    "        self.endereco = novo_endereco\n",
    "    \n",
    "    def atualizar_email(self, novo_email):\n",
    "        self.email = novo_email"
   ]
  },
  {
   "cell_type": "code",
   "execution_count": 31,
   "metadata": {},
   "outputs": [
    {
     "name": "stdout",
     "output_type": "stream",
     "text": [
      "\n",
      "Nome do cliente: Zé das Coves\n",
      "Endereço do Cliente: Rua Boa Esperença, Raia, Saquarema - RJ\n",
      "email do cliente: zedascoves@email.com\n",
      "O cliente é: É uma pessoa\n",
      "    \n"
     ]
    }
   ],
   "source": [
    "zedascoves = Cliente(\"Zé das Coves\", \"Rua Boa Esperença, Raia, Saquarema - RJ\", \"zedascoves@email.com\")\n",
    "\n",
    "print(\n",
    "    f\"\"\"\n",
    "Nome do cliente: {zedascoves.nome}\n",
    "Endereço do Cliente: {zedascoves.endereco}\n",
    "email do cliente: {zedascoves.email}\n",
    "O cliente é: {zedascoves.pessoal}\n",
    "    \"\"\"\n",
    ")"
   ]
  },
  {
   "cell_type": "code",
   "execution_count": 32,
   "metadata": {},
   "outputs": [
    {
     "name": "stdout",
     "output_type": "stream",
     "text": [
      "\n",
      "Nome do cliente: Zé das Coves\n",
      "Endereço do Cliente: Rua Heitor Bravo, Bacaxá, Saquarema - RJ\n",
      "email do cliente: zecove@gmail.com\n",
      "O cliente é: É uma pessoa\n",
      "    \n"
     ]
    }
   ],
   "source": [
    "zedascoves.atualizar_endereco(\"Rua Heitor Bravo, Bacaxá, Saquarema - RJ\")\n",
    "zedascoves.atualizar_email(\"zecove@gmail.com\")\n",
    "\n",
    "print(\n",
    "    f\"\"\"\n",
    "Nome do cliente: {zedascoves.nome}\n",
    "Endereço do Cliente: {zedascoves.endereco}\n",
    "email do cliente: {zedascoves.email}\n",
    "O cliente é: {zedascoves.pessoal}\n",
    "    \"\"\"\n",
    ")"
   ]
  },
  {
   "cell_type": "code",
   "execution_count": null,
   "metadata": {},
   "outputs": [],
   "source": []
  }
 ],
 "metadata": {
  "kernelspec": {
   "display_name": "Python 3",
   "language": "python",
   "name": "python3"
  },
  "language_info": {
   "codemirror_mode": {
    "name": "ipython",
    "version": 3
   },
   "file_extension": ".py",
   "mimetype": "text/x-python",
   "name": "python",
   "nbconvert_exporter": "python",
   "pygments_lexer": "ipython3",
   "version": "3.12.5"
  }
 },
 "nbformat": 4,
 "nbformat_minor": 2
}
